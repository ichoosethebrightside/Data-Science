{
 "cells": [
  {
   "cell_type": "markdown",
   "id": "ba6f2b96",
   "metadata": {},
   "source": [
    "### CAPSTONE PROJECT\n",
    "- PERFORM BLUR DETECTION\n",
    "-CNN Architecture:\n",
    ">    - First set of CNN ->RELU -> Pool layers\n",
    ">    - Second set of CNN ->RELU ->Pool layers\n",
    ">    - Flatten then Dense =500\n",
    ">    - Activation = Softmax\n",
    ">    - Learning rate =1e-3\n",
    ">    - Batch size = 32\n",
    "-Evaluation metrics (ROC-AUC, accuracy,f- score)"
   ]
  },
  {
   "cell_type": "code",
   "execution_count": 48,
   "id": "14b34d71",
   "metadata": {},
   "outputs": [],
   "source": [
    "# Import Libraries\n",
    "import numpy as np\n",
    "import cv2\n",
    "import os\n",
    "import pandas as pd\n",
    "import numpy as np\n",
    "import tensorflow as tf\n",
    "import cv2\n",
    "from tensorflow import keras\n",
    "from tensorflow.keras.layers import Dense, Input, InputLayer, Flatten\n",
    "from tensorflow.keras.models import Sequential, Model\n",
    "from matplotlib import pyplot as plt\n",
    "import matplotlib.image as mpimg\n",
    "%matplotlib inline"
   ]
  },
  {
   "cell_type": "markdown",
   "id": "94fa898f",
   "metadata": {},
   "source": [
    "The given data is composed of three folders containing blurry and not blurry images. To make it easier for me to process the data, I combined the non blurry images in 1 folder. Then, i create a directory folder for the train, test and validation data: 80% for training, 10% for testing, and also, 10% for validation."
   ]
  },
  {
   "cell_type": "code",
   "execution_count": 2,
   "id": "03337c62",
   "metadata": {},
   "outputs": [
    {
     "name": "stderr",
     "output_type": "stream",
     "text": [
      "Copying files: 422 files [00:02, 161.71 files/s]\n"
     ]
    }
   ],
   "source": [
    "import splitfolders \n",
    "input_folder = \"C:/Users/Ivy/Desktop/data_scientist/SP902_Deep_Learning/data\"\n",
    "output = \"C:/Users/Ivy/Desktop/data_scientist/SP902_Deep_Learning/data_split\" #where you want the split datasets saved. one will be created if it does not exist or none is set\n",
    "\n",
    "splitfolders.ratio(input_folder, output=output, seed=42, ratio=(.8, .1, .1)) # ratio of split are in order of train/val/test. You can change to whatever you want. For train/val sets only, you could do .75, .25 for example."
   ]
  },
  {
   "cell_type": "code",
   "execution_count": 3,
   "id": "ce31ca3e",
   "metadata": {},
   "outputs": [
    {
     "name": "stdout",
     "output_type": "stream",
     "text": [
      "total training blurry images: 167\n",
      "total training not blurry images: 170\n",
      "total validation blurry images: 20\n",
      "total validation not blurry images: 21\n",
      "total test blurry images: 22\n",
      "total test not blurry images: 22\n"
     ]
    }
   ],
   "source": [
    "# The directory where we will\n",
    "# store our smaller dataset\n",
    "base_dir = \"C:/Users/Ivy/Desktop/data_scientist/SP902_Deep_Learning/data_split\"\n",
    "\n",
    "# Directories for our training,\n",
    "# validation and test splits\n",
    "train_dir = os.path.join(base_dir, 'train')\n",
    "validation_dir = os.path.join(base_dir, 'val')\n",
    "test_dir = os.path.join(base_dir, 'test')\n",
    "\n",
    "# Directory with training blurry pictures\n",
    "train_blurry_dir = os.path.join(train_dir, 'blurry')\n",
    "\n",
    "# Directory with training not blurry pictures\n",
    "train_notblurry_dir = os.path.join(train_dir, 'notblurry')\n",
    "\n",
    "# Directory with our validation blurry pictures\n",
    "validation_blurry_dir = os.path.join(validation_dir, 'blurry')\n",
    "\n",
    "# Directory with our validation not blurry pictures\n",
    "validation_notblurry_dir = os.path.join(validation_dir, 'notblurry')\n",
    "\n",
    "# Directory with our test blurry pictures\n",
    "test_blurry_dir = os.path.join(test_dir, 'blurry')\n",
    "\n",
    "# Directory with our test not blurry pictures\n",
    "test_notblurry_dir = os.path.join(test_dir, 'notblurry')\n",
    "\n",
    "\n",
    "print('total training blurry images:', len(os.listdir(train_blurry_dir)))\n",
    "print('total training not blurry images:', len(os.listdir(train_notblurry_dir)))\n",
    "print('total validation blurry images:', len(os.listdir(validation_blurry_dir)))\n",
    "print('total validation not blurry images:', len(os.listdir(validation_notblurry_dir)))\n",
    "print('total test blurry images:', len(os.listdir(test_blurry_dir)))\n",
    "print('total test not blurry images:', len(os.listdir(test_notblurry_dir)))"
   ]
  },
  {
   "cell_type": "markdown",
   "id": "80c3a96b",
   "metadata": {},
   "source": [
    "As part of preprocessing the data, image data generator function allows us the load our data in batches with the specified parameters such as the size, shuffle option and the class mode."
   ]
  },
  {
   "cell_type": "code",
   "execution_count": 35,
   "id": "4e671387",
   "metadata": {},
   "outputs": [
    {
     "name": "stdout",
     "output_type": "stream",
     "text": [
      "Found 337 images belonging to 2 classes.\n",
      "Found 41 images belonging to 2 classes.\n",
      "Found 44 images belonging to 2 classes.\n"
     ]
    }
   ],
   "source": [
    "from keras.preprocessing.image import ImageDataGenerator\n",
    "\n",
    "trainDatagen = ImageDataGenerator(rescale=1./337)\n",
    "trainData = trainDatagen.flow_from_directory(directory = \"C:/Users/Ivy/Desktop/data_scientist/SP902_Deep_Learning/data_split/train\", \n",
    "                                       target_size=(400, 174), \n",
    "                                       batch_size=32, \n",
    "                                       shuffle=True,\n",
    "                                       class_mode='categorical')\n",
    "valDatagen = ImageDataGenerator(rescale=1./41)\n",
    "valData = valDatagen.flow_from_directory(directory = \"C:/Users/Ivy/Desktop/data_scientist/SP902_Deep_Learning/data_split/val\", \n",
    "                                      target_size=(400, 174), \n",
    "                                      batch_size=32,\n",
    "                                      shuffle=True,\n",
    "                                      class_mode='categorical')\n",
    "\n",
    "testDatagen = ImageDataGenerator(rescale=1./44)\n",
    "testData = testDatagen.flow_from_directory(directory = \"C:/Users/Ivy/Desktop/data_scientist/SP902_Deep_Learning/data_split/test\", \n",
    "                                      target_size=(400, 174), \n",
    "                                      batch_size=44,\n",
    "                                      class_mode='categorical')"
   ]
  },
  {
   "cell_type": "markdown",
   "id": "4bcf3ff8",
   "metadata": {},
   "source": [
    "#### Setting up CNN model\n",
    "The original image size is 696x1600.In this case,i am setting the size four times smaller than the original. I am also adding dropout layers to reduce overfitting and improve generalization error.\n",
    "Since the preprocessed dataset is located in one folder with subfolders (train, test and validation) and each subfolders contains folders of classes :blurry and not blurry, the designed output of the model is a 2d array (class and label) with values either 0 and 1."
   ]
  },
  {
   "cell_type": "code",
   "execution_count": 5,
   "id": "912e1af8",
   "metadata": {},
   "outputs": [
    {
     "name": "stdout",
     "output_type": "stream",
     "text": [
      "Model: \"sequential\"\n",
      "_________________________________________________________________\n",
      " Layer (type)                Output Shape              Param #   \n",
      "=================================================================\n",
      " conv2d (Conv2D)             (None, 174, 400, 32)      1568      \n",
      "                                                                 \n",
      " max_pooling2d (MaxPooling2D  (None, 43, 100, 32)      0         \n",
      " )                                                               \n",
      "                                                                 \n",
      " dropout (Dropout)           (None, 43, 100, 32)       0         \n",
      "                                                                 \n",
      " conv2d_1 (Conv2D)           (None, 43, 100, 64)       18496     \n",
      "                                                                 \n",
      " max_pooling2d_1 (MaxPooling  (None, 21, 50, 64)       0         \n",
      " 2D)                                                             \n",
      "                                                                 \n",
      " dropout_1 (Dropout)         (None, 21, 50, 64)        0         \n",
      "                                                                 \n",
      " flatten (Flatten)           (None, 67200)             0         \n",
      "                                                                 \n",
      " dense (Dense)               (None, 500)               33600500  \n",
      "                                                                 \n",
      " dropout_2 (Dropout)         (None, 500)               0         \n",
      "                                                                 \n",
      " dense_1 (Dense)             (None, 2)                 1002      \n",
      "                                                                 \n",
      "=================================================================\n",
      "Total params: 33,621,566\n",
      "Trainable params: 33,621,566\n",
      "Non-trainable params: 0\n",
      "_________________________________________________________________\n"
     ]
    }
   ],
   "source": [
    "from keras.layers import Dense, Dropout, Flatten, Conv2D, MaxPool2D\n",
    "from keras import optimizers\n",
    "\n",
    "model = Sequential()\n",
    "#\n",
    "model.add(Conv2D(filters = 32, kernel_size = (4,4),padding = 'Same', \n",
    "                 activation ='relu', input_shape = (174,400,3)))\n",
    "model.add(MaxPool2D(pool_size=(4,4)))\n",
    "model.add(Dropout(0.25))\n",
    "#\n",
    "model.add(Conv2D(filters = 64, kernel_size = (3,3),padding = 'Same', \n",
    "                 activation ='relu'))\n",
    "model.add(MaxPool2D(pool_size=(2,2), strides=(2,2)))\n",
    "model.add(Dropout(0.25))\n",
    "# fully connected\n",
    "model.add(Flatten())\n",
    "model.add(Dense(500, activation = \"relu\"))\n",
    "model.add(Dropout(0.5))\n",
    "model.add(Dense(2, activation = \"softmax\"))\n",
    "\n",
    "model.compile(optimizer=optimizers.RMSprop(learning_rate=1e-3), loss='categorical_crossentropy', metrics=['accuracy'])\n",
    "\n",
    "model.summary()"
   ]
  },
  {
   "cell_type": "code",
   "execution_count": 7,
   "id": "48ec5c3d",
   "metadata": {},
   "outputs": [
    {
     "name": "stdout",
     "output_type": "stream",
     "text": [
      "Epoch 1/25\n",
      "11/11 - 68s - loss: 0.4243 - accuracy: 0.8457 - val_loss: 0.3688 - val_accuracy: 0.9512 - 68s/epoch - 6s/step\n",
      "Epoch 2/25\n",
      "11/11 - 65s - loss: 0.2438 - accuracy: 0.9228 - val_loss: 0.2109 - val_accuracy: 0.9512 - 65s/epoch - 6s/step\n",
      "Epoch 3/25\n",
      "11/11 - 65s - loss: 0.1555 - accuracy: 0.9377 - val_loss: 0.6533 - val_accuracy: 0.9512 - 65s/epoch - 6s/step\n",
      "Epoch 4/25\n",
      "11/11 - 64s - loss: 0.1940 - accuracy: 0.9258 - val_loss: 0.3213 - val_accuracy: 0.9512 - 64s/epoch - 6s/step\n",
      "Epoch 5/25\n",
      "11/11 - 67s - loss: 0.0616 - accuracy: 0.9881 - val_loss: 1.4839 - val_accuracy: 0.9512 - 67s/epoch - 6s/step\n",
      "Epoch 6/25\n",
      "11/11 - 66s - loss: 0.0518 - accuracy: 0.9881 - val_loss: 0.0051 - val_accuracy: 1.0000 - 66s/epoch - 6s/step\n",
      "Epoch 7/25\n",
      "11/11 - 65s - loss: 0.1055 - accuracy: 0.9525 - val_loss: 7.1331e-05 - val_accuracy: 1.0000 - 65s/epoch - 6s/step\n",
      "Epoch 8/25\n",
      "11/11 - 65s - loss: 0.0403 - accuracy: 0.9792 - val_loss: 0.0994 - val_accuracy: 0.9756 - 65s/epoch - 6s/step\n",
      "Epoch 9/25\n",
      "11/11 - 65s - loss: 0.0516 - accuracy: 0.9911 - val_loss: 0.2645 - val_accuracy: 0.9512 - 65s/epoch - 6s/step\n",
      "Epoch 10/25\n",
      "11/11 - 66s - loss: 0.0499 - accuracy: 0.9822 - val_loss: 0.4146 - val_accuracy: 0.9512 - 66s/epoch - 6s/step\n",
      "Epoch 11/25\n",
      "11/11 - 65s - loss: 0.0599 - accuracy: 0.9733 - val_loss: 101.7991 - val_accuracy: 0.5122 - 65s/epoch - 6s/step\n",
      "Epoch 12/25\n",
      "11/11 - 63s - loss: 1.9008 - accuracy: 0.8902 - val_loss: 0.2430 - val_accuracy: 0.9512 - 63s/epoch - 6s/step\n",
      "Epoch 13/25\n",
      "11/11 - 63s - loss: 0.0337 - accuracy: 0.9941 - val_loss: 0.7023 - val_accuracy: 0.9512 - 63s/epoch - 6s/step\n",
      "Epoch 14/25\n",
      "11/11 - 64s - loss: 0.0132 - accuracy: 0.9970 - val_loss: 3.2941e-06 - val_accuracy: 1.0000 - 64s/epoch - 6s/step\n",
      "Epoch 15/25\n",
      "11/11 - 65s - loss: 0.0248 - accuracy: 0.9911 - val_loss: 0.2870 - val_accuracy: 0.9512 - 65s/epoch - 6s/step\n",
      "Epoch 16/25\n",
      "11/11 - 65s - loss: 0.0434 - accuracy: 0.9881 - val_loss: 0.0107 - val_accuracy: 1.0000 - 65s/epoch - 6s/step\n",
      "Epoch 17/25\n",
      "11/11 - 65s - loss: 0.0794 - accuracy: 0.9822 - val_loss: 7.3390e-04 - val_accuracy: 1.0000 - 65s/epoch - 6s/step\n",
      "Epoch 18/25\n",
      "11/11 - 65s - loss: 0.0611 - accuracy: 0.9822 - val_loss: 9.0204 - val_accuracy: 0.5122 - 65s/epoch - 6s/step\n",
      "Epoch 19/25\n",
      "11/11 - 65s - loss: 0.3660 - accuracy: 0.9407 - val_loss: 0.8270 - val_accuracy: 0.9512 - 65s/epoch - 6s/step\n",
      "Epoch 20/25\n",
      "11/11 - 64s - loss: 0.0187 - accuracy: 0.9941 - val_loss: 0.0227 - val_accuracy: 0.9756 - 64s/epoch - 6s/step\n",
      "Epoch 21/25\n",
      "11/11 - 61s - loss: 0.0265 - accuracy: 0.9941 - val_loss: 0.0035 - val_accuracy: 1.0000 - 61s/epoch - 6s/step\n",
      "Epoch 22/25\n",
      "11/11 - 65s - loss: 0.0050 - accuracy: 1.0000 - val_loss: 0.9510 - val_accuracy: 0.9512 - 65s/epoch - 6s/step\n",
      "Epoch 23/25\n",
      "11/11 - 66s - loss: 0.0405 - accuracy: 0.9881 - val_loss: 1.0282 - val_accuracy: 0.9512 - 66s/epoch - 6s/step\n",
      "Epoch 24/25\n",
      "11/11 - 67s - loss: 0.0166 - accuracy: 0.9941 - val_loss: 1.1597 - val_accuracy: 0.9512 - 67s/epoch - 6s/step\n",
      "Epoch 25/25\n",
      "11/11 - 66s - loss: 0.0083 - accuracy: 0.9970 - val_loss: 0.4533 - val_accuracy: 0.9512 - 66s/epoch - 6s/step\n"
     ]
    },
    {
     "name": "stderr",
     "output_type": "stream",
     "text": [
      "WARNING:absl:Found untraced functions such as _jit_compiled_convolution_op, _jit_compiled_convolution_op while saving (showing 2 of 2). These functions will not be directly callable after loading.\n"
     ]
    },
    {
     "name": "stdout",
     "output_type": "stream",
     "text": [
      "INFO:tensorflow:Assets written to: blur_detection_model\\assets\n"
     ]
    },
    {
     "name": "stderr",
     "output_type": "stream",
     "text": [
      "INFO:tensorflow:Assets written to: blur_detection_model\\assets\n"
     ]
    }
   ],
   "source": [
    "# fitting dataset to CNN model\n",
    "hist = model.fit(x=trainData,\n",
    "    steps_per_epoch=len(trainData),\n",
    "    validation_data=valData,\n",
    "    validation_steps=len(valData),\n",
    "    batch_size=32,\n",
    "    epochs=25,\n",
    "    verbose=2\n",
    ")\n",
    "\n",
    "model.save('blur_detection_model')"
   ]
  },
  {
   "cell_type": "markdown",
   "id": "197b0e5f",
   "metadata": {},
   "source": [
    "The model exhibits high training and validation accuracy after the last epoch.To develop a good understanding of the result, a plot is shown below."
   ]
  },
  {
   "cell_type": "code",
   "execution_count": 49,
   "id": "5548c289",
   "metadata": {},
   "outputs": [
    {
     "data": {
      "image/png": "[encoded data removed]",
      "text/plain": [
       "<Figure size 432x288 with 1 Axes>"
      ]
     },
     "metadata": {
      "needs_background": "light"
     },
     "output_type": "display_data"
    },
    {
     "data": {
      "image/png": "[encoded data removed]",
      "text/plain": [
       "<Figure size 432x288 with 1 Axes>"
      ]
     },
     "metadata": {
      "needs_background": "light"
     },
     "output_type": "display_data"
    }
   ],
   "source": [
    "import matplotlib.pyplot as plt\n",
    "\n",
    "acc = hist.history['accuracy']\n",
    "val_acc = hist.history['val_accuracy']\n",
    "loss = hist.history['loss']\n",
    "val_loss = hist.history['val_loss']\n",
    "\n",
    "epochs = range(len(acc))\n",
    "\n",
    "plt.plot(epochs, acc, 'bo', label='Training acc')\n",
    "plt.plot(epochs, val_acc, 'b', label='Validation acc')\n",
    "plt.title('Training and validation accuracy')\n",
    "plt.legend()\n",
    "\n",
    "plt.figure()\n",
    "\n",
    "plt.plot(epochs, loss, 'bo', label='Training loss')\n",
    "plt.plot(epochs, val_loss, 'b', label='Validation loss')\n",
    "plt.title('Training and validation loss')\n",
    "plt.legend()\n",
    "\n",
    "plt.show()"
   ]
  },
  {
   "cell_type": "markdown",
   "id": "769e2533",
   "metadata": {},
   "source": [
    "From the figures, sharp spikes has been observed. During the training at around the 11th epoch, the validation loss abruptly increased. However, as the training goes on to the last epoch, the loss function reduces to a small value."
   ]
  },
  {
   "cell_type": "markdown",
   "id": "dcc828a2",
   "metadata": {},
   "source": [
    "### Model testing\n",
    "\n",
    "80% of the data has been set for training and 10% has been set for validation. To check our model, the remaining 10% (testData) will be used for prediction. \n"
   ]
  },
  {
   "cell_type": "code",
   "execution_count": 41,
   "id": "752a677f",
   "metadata": {
    "scrolled": true
   },
   "outputs": [
    {
     "data": {
      "text/plain": [
       "array([[1., 0.],\n",
       "       [0., 1.],\n",
       "       [0., 1.],\n",
       "       [1., 0.],\n",
       "       [1., 0.],\n",
       "       [0., 1.],\n",
       "       [1., 0.],\n",
       "       [1., 0.],\n",
       "       [0., 1.],\n",
       "       [1., 0.],\n",
       "       [1., 0.],\n",
       "       [0., 1.],\n",
       "       [0., 1.],\n",
       "       [1., 0.],\n",
       "       [0., 1.],\n",
       "       [0., 1.],\n",
       "       [1., 0.],\n",
       "       [1., 0.],\n",
       "       [0., 1.],\n",
       "       [0., 1.],\n",
       "       [1., 0.],\n",
       "       [1., 0.],\n",
       "       [0., 1.],\n",
       "       [1., 0.],\n",
       "       [1., 0.],\n",
       "       [0., 1.],\n",
       "       [1., 0.],\n",
       "       [0., 1.],\n",
       "       [0., 1.],\n",
       "       [0., 1.],\n",
       "       [0., 1.],\n",
       "       [1., 0.],\n",
       "       [1., 0.],\n",
       "       [0., 1.],\n",
       "       [1., 0.],\n",
       "       [1., 0.],\n",
       "       [0., 1.],\n",
       "       [0., 1.],\n",
       "       [1., 0.],\n",
       "       [1., 0.],\n",
       "       [0., 1.],\n",
       "       [1., 0.],\n",
       "       [1., 0.],\n",
       "       [0., 1.]], dtype=float32)"
      ]
     },
     "execution_count": 41,
     "metadata": {},
     "output_type": "execute_result"
    }
   ],
   "source": [
    "from keras.models import load_model\n",
    "model = load_model('blur_detection_model')\n",
    "predictions = model.predict(testData, steps=len(testData), verbose=0)\n",
    "predictions = np.round(predictions)\n",
    "predictions"
   ]
  },
  {
   "cell_type": "code",
   "execution_count": 43,
   "id": "965edae8",
   "metadata": {
    "scrolled": false
   },
   "outputs": [
    {
     "data": {
      "text/plain": [
       "{'blurry': 0, 'notblurry': 1}"
      ]
     },
     "execution_count": 43,
     "metadata": {},
     "output_type": "execute_result"
    }
   ],
   "source": [
    "testData.class_indices"
   ]
  },
  {
   "cell_type": "markdown",
   "id": "721359c6",
   "metadata": {},
   "source": [
    "Here, i am using next function to extract a batch of images and their corresponding labels from the test set. Recall that the 44 samples are loaded in 1 batch for the test data. The output here is a 2D array: class and the image label."
   ]
  },
  {
   "cell_type": "code",
   "execution_count": 37,
   "id": "6f6f9246",
   "metadata": {
    "scrolled": true
   },
   "outputs": [
    {
     "name": "stdout",
     "output_type": "stream",
     "text": [
      "[[1. 0.]\n",
      " [0. 1.]\n",
      " [0. 1.]\n",
      " [1. 0.]\n",
      " [1. 0.]\n",
      " [0. 1.]\n",
      " [1. 0.]\n",
      " [1. 0.]\n",
      " [0. 1.]\n",
      " [1. 0.]\n",
      " [1. 0.]\n",
      " [0. 1.]\n",
      " [0. 1.]\n",
      " [1. 0.]\n",
      " [0. 1.]\n",
      " [0. 1.]\n",
      " [1. 0.]\n",
      " [1. 0.]\n",
      " [0. 1.]\n",
      " [0. 1.]\n",
      " [1. 0.]\n",
      " [1. 0.]\n",
      " [0. 1.]\n",
      " [1. 0.]\n",
      " [1. 0.]\n",
      " [0. 1.]\n",
      " [1. 0.]\n",
      " [0. 1.]\n",
      " [0. 1.]\n",
      " [0. 1.]\n",
      " [0. 1.]\n",
      " [1. 0.]\n",
      " [1. 0.]\n",
      " [0. 1.]\n",
      " [0. 1.]\n",
      " [1. 0.]\n",
      " [0. 1.]\n",
      " [0. 1.]\n",
      " [1. 0.]\n",
      " [1. 0.]\n",
      " [0. 1.]\n",
      " [1. 0.]\n",
      " [1. 0.]\n",
      " [0. 1.]]\n"
     ]
    }
   ],
   "source": [
    "test_imgs, test_labels = next(testData)\n",
    "\n",
    "print(test_labels)"
   ]
  },
  {
   "cell_type": "code",
   "execution_count": 42,
   "id": "7c832d8a",
   "metadata": {},
   "outputs": [
    {
     "name": "stdout",
     "output_type": "stream",
     "text": [
      "Accuracy: 97.73%\n",
      "Precision: 100.00%\n",
      "Recall: 95.45%\n",
      "F1-score: 97.67\n"
     ]
    },
    {
     "data": {
      "image/png": "[encoded data removed]",
      "text/plain": [
       "<Figure size 288x288 with 2 Axes>"
      ]
     },
     "metadata": {
      "needs_background": "light"
     },
     "output_type": "display_data"
    }
   ],
   "source": [
    "from sklearn.metrics import confusion_matrix, roc_auc_score, f1_score,roc_curve, auc, accuracy_score\n",
    "import seaborn as sns\n",
    "from sklearn.model_selection import cross_val_score\n",
    "\n",
    "# confusion matrix \n",
    "cm = confusion_matrix(test_labels.argmax(axis=1), predictions.argmax(axis=1))\n",
    "\n",
    "# Representing the confusion matrix in a heat map\n",
    "\n",
    "plt.figure(figsize=(4,4))\n",
    "sns.heatmap(cm, annot=True, fmt=\".3f\", linewidths=.5, square=True, cmap='coolwarm');\n",
    "plt.ylabel('Actual')\n",
    "plt.xlabel('Predicted');\n",
    "\n",
    "#check accuracy\n",
    "acc = accuracy_score(test_labels, predictions)*100\n",
    "tn, fp, fn, tp = cm.ravel()\n",
    "accuracy = (tp+tn)/(tp+fp+tn+fn)*100\n",
    "precision = tp/(tp+fp)*100\n",
    "recall = tp/(tp+fn)*100\n",
    "print('Accuracy: {0:0.2f}%'.format(accuracy))\n",
    "print('Precision: {0:0.2f}%'.format(precision))\n",
    "print('Recall: {0:0.2f}%'.format(recall))\n",
    "print('F1-score: {0:0.2f}'.format(2*precision*recall/(precision+recall)))"
   ]
  },
  {
   "cell_type": "code",
   "execution_count": 51,
   "id": "a76dcf02",
   "metadata": {},
   "outputs": [
    {
     "name": "stdout",
     "output_type": "stream",
     "text": [
      "ROC AUC: 97.7273\n"
     ]
    }
   ],
   "source": [
    "from sklearn.metrics import roc_auc_score\n",
    "score = roc_auc_score(test_labels, predictions)*100\n",
    "print(f\"ROC AUC: {score:.4f}\")"
   ]
  },
  {
   "cell_type": "code",
   "execution_count": null,
   "id": "130ddf59",
   "metadata": {},
   "outputs": [],
   "source": []
  }
 ],
 "metadata": {
  "kernelspec": {
   "display_name": "Python 3 (ipykernel)",
   "language": "python",
   "name": "python3"
  },
  "language_info": {
   "codemirror_mode": {
    "name": "ipython",
    "version": 3
   },
   "file_extension": ".py",
   "mimetype": "text/x-python",
   "name": "python",
   "nbconvert_exporter": "python",
   "pygments_lexer": "ipython3",
   "version": "3.9.12"
  }
 },
 "nbformat": 4,
 "nbformat_minor": 5
}
